{
 "cells": [
  {
   "cell_type": "code",
   "execution_count": 1,
   "metadata": {},
   "outputs": [
    {
     "name": "stderr",
     "output_type": "stream",
     "text": [
      "Using TensorFlow backend.\n"
     ]
    }
   ],
   "source": [
    "import tensorflow as tf\n",
    "import keras.preprocessing.image as kpi\n",
    "import keras.layers as kl\n",
    "import keras.optimizers as ko\n",
    "import keras.backend as k\n",
    "import keras.models as km\n",
    "import keras.applications as ka"
   ]
  },
  {
   "cell_type": "code",
   "execution_count": 2,
   "metadata": {
    "collapsed": true
   },
   "outputs": [],
   "source": [
    "data_dir = 'data'\n",
    "N_train = 1000\n",
    "N_val = 400\n",
    "data_dir_sub = data_dir+'/train_val'"
   ]
  },
  {
   "cell_type": "code",
   "execution_count": 3,
   "metadata": {
    "collapsed": true
   },
   "outputs": [],
   "source": [
    "img_width = 150\n",
    "img_height = 150"
   ]
  },
  {
   "cell_type": "code",
   "execution_count": 4,
   "metadata": {
    "collapsed": true
   },
   "outputs": [],
   "source": [
    "#Chargement des données"
   ]
  },
  {
   "cell_type": "code",
   "execution_count": null,
   "metadata": {},
   "outputs": [],
   "source": []
  },
  {
   "cell_type": "code",
   "execution_count": null,
   "metadata": {
    "collapsed": true
   },
   "outputs": [],
   "source": []
  },
  {
   "cell_type": "code",
   "execution_count": null,
   "metadata": {
    "collapsed": true
   },
   "outputs": [],
   "source": []
  },
  {
   "cell_type": "code",
   "execution_count": 6,
   "metadata": {},
   "outputs": [
    {
     "name": "stdout",
     "output_type": "stream",
     "text": [
      "_________________________________________________________________\n",
      "Layer (type)                 Output Shape              Param #   \n",
      "=================================================================\n",
      "conv2d_3 (Conv2D)            (None, 148, 148, 32)      896       \n",
      "_________________________________________________________________\n",
      "activation_5 (Activation)    (None, 148, 148, 32)      0         \n",
      "_________________________________________________________________\n",
      "max_pooling2d_3 (MaxPooling2 (None, 74, 74, 32)        0         \n",
      "_________________________________________________________________\n",
      "conv2d_4 (Conv2D)            (None, 72, 72, 32)        9248      \n",
      "_________________________________________________________________\n",
      "activation_6 (Activation)    (None, 72, 72, 32)        0         \n",
      "_________________________________________________________________\n",
      "max_pooling2d_4 (MaxPooling2 (None, 36, 36, 32)        0         \n",
      "_________________________________________________________________\n",
      "first (Dense)                (None, 36, 36, 64)        2112      \n",
      "_________________________________________________________________\n",
      "activation_7 (Activation)    (None, 36, 36, 64)        0         \n",
      "_________________________________________________________________\n",
      "dropout_2 (Dropout)          (None, 36, 36, 64)        0         \n",
      "_________________________________________________________________\n",
      "second (Dense)               (None, 36, 36, 1)         65        \n",
      "_________________________________________________________________\n",
      "activation_8 (Activation)    (None, 36, 36, 1)         0         \n",
      "=================================================================\n",
      "Total params: 12,321\n",
      "Trainable params: 12,321\n",
      "Non-trainable params: 0\n",
      "_________________________________________________________________\n"
     ]
    }
   ],
   "source": [
    "# Définition du réseau\n",
    "model = km.Sequential()\n",
    "#model.add(kl.Dense(512, activation='relu', input_shape=(784,)))\n",
    "#model.add(kl.Dropout(0.2))\n",
    "#model.add(kl.Dense(1, activation='softmax'))\n",
    "model.add(kl.Conv2D(32, (3, 3), input_shape=(img_width, img_height, 3), data_format=\"channels_last\"))\n",
    "model.add(kl.Activation('relu'))\n",
    "model.add(kl.MaxPooling2D(pool_size=(2, 2)))\n",
    "\n",
    "model.add(kl.Conv2D(32, (3, 3)))\n",
    "model.add(kl.Activation('relu'))\n",
    "model.add(kl.MaxPooling2D(pool_size=(2, 2)))\n",
    "\n",
    "#model.add(kl.Flatten())\n",
    "model.add(kl.Dense(64,name='first', input_shape=(img_width, img_height, 3)))\n",
    "model.add(kl.Activation('relu'))\n",
    "model.add(kl.Dropout(0.5))\n",
    "model.add(kl.Dense(1,name='second'))\n",
    "model.add(kl.Activation('sigmoid'))\n",
    "model.summary()"
   ]
  },
  {
   "cell_type": "code",
   "execution_count": 7,
   "metadata": {
    "collapsed": true
   },
   "outputs": [],
   "source": [
    "# Compilation\n",
    "model.compile(loss='binary_crossentropy',\n",
    "optimizer=ko.RMSprop(),\n",
    "metrics=['accuracy'])"
   ]
  },
  {
   "cell_type": "code",
   "execution_count": null,
   "metadata": {
    "collapsed": true
   },
   "outputs": [],
   "source": []
  },
  {
   "cell_type": "code",
   "execution_count": 8,
   "metadata": {
    "collapsed": true
   },
   "outputs": [],
   "source": [
    "#Configuration pour le training\n",
    "train_datagen = kpi.ImageDataGenerator(\n",
    "        rescale=1./255,\n",
    "        shear_range=0.2,\n",
    "        zoom_range=0.2,\n",
    "        horizontal_flip=True)"
   ]
  },
  {
   "cell_type": "code",
   "execution_count": 9,
   "metadata": {
    "collapsed": true
   },
   "outputs": [],
   "source": [
    "#Configuration pour la validation\n",
    "valid_datagen = kpi.ImageDataGenerator(rescale=1./255)"
   ]
  },
  {
   "cell_type": "code",
   "execution_count": 10,
   "metadata": {
    "collapsed": true
   },
   "outputs": [],
   "source": [
    "#Nous divisons l'ensemble d'entraînement en batchs, \n",
    "#chaque epochs passe par tout l'ensemble d'entraînement.\n",
    "#Chaque itération passe par batch.\n",
    "batch_size = 20 # 800/20\n",
    "epochs = 10"
   ]
  },
  {
   "cell_type": "code",
   "execution_count": 11,
   "metadata": {},
   "outputs": [
    {
     "name": "stdout",
     "output_type": "stream",
     "text": [
      "Found 0 images belonging to 2 classes.\n"
     ]
    }
   ],
   "source": [
    "#Un générateur qui va lire les images trouvées dans 'datarain_val / train'\n",
    "train_generator = train_datagen.flow_from_directory(\n",
    "        data_dir_sub+\"/train/\",  #le répertoire\n",
    "        target_size=(img_width, img_height), #toutes les images seront redimensionnées à 150x150\n",
    "        batch_size=batch_size,\n",
    "        class_mode='binary',\n",
    "        classes=['cats','dogs'])"
   ]
  },
  {
   "cell_type": "code",
   "execution_count": 12,
   "metadata": {},
   "outputs": [
    {
     "name": "stdout",
     "output_type": "stream",
     "text": [
      "Found 0 images belonging to 2 classes.\n"
     ]
    }
   ],
   "source": [
    "#Un générateur similaire, pour les données de validation\n",
    "validation_generator = valid_datagen.flow_from_directory(\n",
    "        data_dir_sub+\"/validation/\",\n",
    "        target_size=(img_width, img_height),\n",
    "        batch_size=batch_size,\n",
    "        class_mode='binary')"
   ]
  },
  {
   "cell_type": "code",
   "execution_count": null,
   "metadata": {},
   "outputs": [
    {
     "name": "stdout",
     "output_type": "stream",
     "text": [
      "Epoch 1/10\n"
     ]
    }
   ],
   "source": [
    "model.fit_generator(train_generator,\n",
    "                    steps_per_epoch=N_train// batch_size,\n",
    "                    epochs=epochs,\n",
    "                    validation_data=validation_generator,\n",
    "                    validation_steps=N_val// batch_size)\n",
    "###################################"
   ]
  },
  {
   "cell_type": "code",
   "execution_count": 26,
   "metadata": {},
   "outputs": [
    {
     "name": "stdout",
     "output_type": "stream",
     "text": [
      "Epoch 1/10\n",
      "2/2 [==============================] - 22s 11s/step - loss: 0.7182 - acc: 0.7250 - val_loss: 0.8718 - val_acc: 0.5675\n",
      "Epoch 2/10\n",
      "2/2 [==============================] - 8s 4s/step - loss: 0.9549 - acc: 0.4500 - val_loss: 0.5819 - val_acc: 0.7000\n",
      "Epoch 3/10\n",
      "2/2 [==============================] - 7s 4s/step - loss: 0.6045 - acc: 0.7750 - val_loss: 0.5820 - val_acc: 0.7300\n",
      "Epoch 4/10\n",
      "2/2 [==============================] - 8s 4s/step - loss: 0.5456 - acc: 0.7250 - val_loss: 0.6000 - val_acc: 0.6575\n",
      "Epoch 5/10\n",
      "2/2 [==============================] - 8s 4s/step - loss: 0.6909 - acc: 0.6500 - val_loss: 0.5888 - val_acc: 0.7000\n",
      "Epoch 6/10\n",
      "2/2 [==============================] - 8s 4s/step - loss: 0.6080 - acc: 0.6750 - val_loss: 0.5858 - val_acc: 0.7000\n",
      "Epoch 7/10\n",
      "2/2 [==============================] - 8s 4s/step - loss: 0.4534 - acc: 0.8750 - val_loss: 0.6011 - val_acc: 0.6900\n",
      "Epoch 8/10\n",
      "2/2 [==============================] - 8s 4s/step - loss: 0.6804 - acc: 0.6500 - val_loss: 0.5637 - val_acc: 0.7275\n",
      "Epoch 9/10\n",
      "2/2 [==============================] - 8s 4s/step - loss: 0.4643 - acc: 0.8250 - val_loss: 0.5649 - val_acc: 0.7150\n",
      "Epoch 10/10\n",
      "2/2 [==============================] - 8s 4s/step - loss: 0.6554 - acc: 0.6500 - val_loss: 0.5625 - val_acc: 0.7100\n"
     ]
    },
    {
     "data": {
      "text/plain": [
       "<keras.callbacks.History at 0x1b279bd2550>"
      ]
     },
     "execution_count": 26,
     "metadata": {},
     "output_type": "execute_result"
    }
   ],
   "source": [
    "model.fit_generator(train_generator,\n",
    "                    steps_per_epoch=1000/500,\n",
    "                    epochs=epochs,\n",
    "                    validation_data=validation_generator,\n",
    "                    validation_steps=400/20)"
   ]
  },
  {
   "cell_type": "code",
   "execution_count": 19,
   "metadata": {},
   "outputs": [
    {
     "data": {
      "text/plain": [
       "array([[ 0.68677443],\n",
       "       [ 0.38389698],\n",
       "       [ 0.96185833],\n",
       "       ..., \n",
       "       [ 0.2896696 ],\n",
       "       [ 0.21260695],\n",
       "       [ 0.11691327]], dtype=float32)"
      ]
     },
     "execution_count": 19,
     "metadata": {},
     "output_type": "execute_result"
    }
   ],
   "source": [
    "#fit_generator(self, generator, steps_per_epoch=None,epochs=1, verbose=1, callbacks=None,validation_data=None, validation_steps=None, class_weight=None, max_queue_size=10, workers=1, use_multiprocessing=False, shuffle=True, initial_epoch=0)\n",
    "\n",
    "model.predict_generator(train_generator, steps=None, max_queue_size=10, workers=1, use_multiprocessing=False, verbose=0)"
   ]
  },
  {
   "cell_type": "code",
   "execution_count": 15,
   "metadata": {},
   "outputs": [
    {
     "data": {
      "text/plain": [
       "<keras.layers.core.Dense at 0x2025f801898>"
      ]
     },
     "execution_count": 15,
     "metadata": {},
     "output_type": "execute_result"
    }
   ],
   "source": [
    "model.get_layer(name='first', index=None)"
   ]
  },
  {
   "cell_type": "code",
   "execution_count": 16,
   "metadata": {},
   "outputs": [
    {
     "data": {
      "text/plain": [
       "<keras.layers.core.Dense at 0x2025f81ebe0>"
      ]
     },
     "execution_count": 16,
     "metadata": {},
     "output_type": "execute_result"
    }
   ],
   "source": [
    "model.get_layer(name='second', index=None)"
   ]
  },
  {
   "cell_type": "code",
   "execution_count": 17,
   "metadata": {},
   "outputs": [
    {
     "name": "stdout",
     "output_type": "stream",
     "text": [
      "Train accuracy: 0.712999998331\n",
      "Test accuracy: 0.642499995232\n"
     ]
    }
   ],
   "source": [
    "\n",
    "score_conv_val = model.evaluate_generator(validation_generator, N_val //batch_size)\n",
    "score_conv_train = model.evaluate_generator(train_generator, N_train// batch_size)\n",
    "\n",
    "print('Train accuracy:', score_conv_train[1])\n",
    "print('Test accuracy:', score_conv_val[1])"
   ]
  },
  {
   "cell_type": "code",
   "execution_count": 18,
   "metadata": {},
   "outputs": [
    {
     "name": "stdout",
     "output_type": "stream",
     "text": [
      "Model loaded.\n"
     ]
    }
   ],
   "source": [
    "\n",
    "model_InceptionV3 = ka.InceptionV3(include_top=False, weights='imagenet', input_shape=(150,150,3))\n",
    "print('Model loaded.')"
   ]
  },
  {
   "cell_type": "code",
   "execution_count": null,
   "metadata": {
    "collapsed": true
   },
   "outputs": [],
   "source": [
    "top_model = km.Sequential()\n",
    "top_model.add(kl.Flatten(input_shape=model_InceptionV3[1:]))\n",
    "top_model.add(kl.Dense(64, activation='relu'))\n",
    "top_model.add(kl.Dropout(0.5))\n",
    "top_model.add(kl.Dense(1, activation='sigmoid'))\n",
    "\n",
    "# note that it is necessary to start with a fully-trained\n",
    "# classifier, including the top classifier,\n",
    "# in order to successfully do fine-tuning\n",
    "\n",
    "top_model.load_weights(data_dir_sub+'/models_convolutional_network_InceptionV3.h5')"
   ]
  }
 ],
 "metadata": {
  "kernelspec": {
   "display_name": "Python 3",
   "language": "python",
   "name": "python3"
  },
  "language_info": {
   "codemirror_mode": {
    "name": "ipython",
    "version": 3
   },
   "file_extension": ".py",
   "mimetype": "text/x-python",
   "name": "python",
   "nbconvert_exporter": "python",
   "pygments_lexer": "ipython3",
   "version": "3.6.3"
  }
 },
 "nbformat": 4,
 "nbformat_minor": 2
}
